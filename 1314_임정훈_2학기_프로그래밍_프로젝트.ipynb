{
  "nbformat": 4,
  "nbformat_minor": 0,
  "metadata": {
    "colab": {
      "provenance": [],
      "authorship_tag": "ABX9TyPgbKGtym1l8uLPbjDRx1pR",
      "include_colab_link": true
    },
    "kernelspec": {
      "name": "python3",
      "display_name": "Python 3"
    },
    "language_info": {
      "name": "python"
    }
  },
  "cells": [
    {
      "cell_type": "markdown",
      "metadata": {
        "id": "view-in-github",
        "colab_type": "text"
      },
      "source": [
        "<a href=\"https://colab.research.google.com/github/hoony6134/project/blob/main/1314_%EC%9E%84%EC%A0%95%ED%9B%88_2%ED%95%99%EA%B8%B0_%ED%94%84%EB%A1%9C%EA%B7%B8%EB%9E%98%EB%B0%8D_%ED%94%84%EB%A1%9C%EC%A0%9D%ED%8A%B8.ipynb\" target=\"_parent\"><img src=\"https://colab.research.google.com/assets/colab-badge.svg\" alt=\"Open In Colab\"/></a>"
      ]
    },
    {
      "cell_type": "markdown",
      "source": [
        "# COVID-19 Symptoms Classification System\n",
        "### Developed by JeongHoon Lim"
      ],
      "metadata": {
        "id": "s1tnNqOzS9kI"
      }
    },
    {
      "cell_type": "code",
      "source": [],
      "metadata": {
        "id": "L3-qZ4tZibz4"
      },
      "execution_count": null,
      "outputs": []
    },
    {
      "cell_type": "markdown",
      "source": [
        "## Descriptions\n",
        "* **Background** | 현재 우리는 코로나19 속에서 살아가고 있다. 코로나19 자가검진 키트를 통해 코로나19의 감염 여부를 판별하는 것이 가장 좋으나, 매 번 키트를 통해 검사하기 힘들고, 또 간단한 증상이 있는데, 이것이 코로나19의 증상인지 아닌지 확인해 보고 싶을 때가 많다. 이러한 점에서, 코로나19의 증상 정보를 입력하면 자신이 코로나19에 걸렸는지 아닌지를 간단하게 판별해 주는 시스템을 만들어 보고자 본 주제를 선정하게 되었다. (단, 본 프로그램을 통한 결과는 단순 참고용이며, 의료적 목적으로 사용해서는 안된다.)\n",
        "* **Dataset** | [Covid-19 symptoms classification (Kaggle)](https://www.kaggle.com/datasets/zhiruo19/covid19-symptoms-classification) 사용\n",
        "* **Details** | 체온(temp), 신체의 전반적인 고통 여부(bodypain), 나이(age), 콧물 여부(runny nose)의 4가지 독립변수로부터 감염 여부(infected)라는 하나의 종속 변수를 도출해 내는 프로그램이다."
      ],
      "metadata": {
        "id": "qLXCi5YMUHbS"
      }
    },
    {
      "cell_type": "markdown",
      "source": [
        "## Preparation"
      ],
      "metadata": {
        "id": "w97HPD4XVkGr"
      }
    },
    {
      "cell_type": "markdown",
      "source": [
        "### Libraries\n",
        "* 인공지능 학습에 필요한 라이브러리와 데이터 처리를 위해 필요한 라이브러리를 import하였다."
      ],
      "metadata": {
        "id": "jq5QtHz0VoId"
      }
    },
    {
      "cell_type": "code",
      "execution_count": null,
      "metadata": {
        "id": "HHZpemH8S4Pn"
      },
      "outputs": [],
      "source": [
        "import tensorflow as tf\n",
        "import numpy as np\n",
        "import pandas as pd\n",
        "from tensorflow import keras\n",
        "from pandas import read_csv"
      ]
    },
    {
      "cell_type": "markdown",
      "source": [
        "### File Import\n",
        "* Kaggle에서 가져온 데이터셋에서 화씨 단위로 되어 있던 체온 데이터를 섭씨 단위로 변환하여 처리하였고, 사용할 독립변수를 선택하여 처리 후 .csv 파일을 GitHub에 업로드하여 Colab에서 불러왔다.\n",
        "* 이 때, 파일이 깨지지 않도록 인코딩을 cp949로 바꾸어 Colab에서 처리하였다.\n"
      ],
      "metadata": {
        "id": "TaikySIwYehQ"
      }
    },
    {
      "cell_type": "code",
      "source": [
        "file_location = 'https://raw.githubusercontent.com/hoony6134/2022_programming_project_ai/main/covid.csv'\n",
        "data = pd.read_csv(file_location, encoding='cp949')\n",
        "data"
      ],
      "metadata": {
        "colab": {
          "base_uri": "https://localhost:8080/",
          "height": 424
        },
        "id": "tMTD3fxAYgmV",
        "outputId": "51a8d444-1bd4-452c-dabf-fc4f5b50f010"
      },
      "execution_count": null,
      "outputs": [
        {
          "output_type": "execute_result",
          "data": {
            "text/plain": [
              "           temp  bodypain  age  runnynose  infected\n",
              "0     37.405479         0   26          1         0\n",
              "1     36.730702         1   61          1         1\n",
              "2     37.732271         1   13          0         0\n",
              "3     38.524698         1   55          1         1\n",
              "4     37.809265         1   37          0         0\n",
              "...         ...       ...  ...        ...       ...\n",
              "1994  38.706606         1   33          1         1\n",
              "1995  38.707766         1   38          0         1\n",
              "1996  37.669128         1   76          0         1\n",
              "1997  36.980879         1   62          1         1\n",
              "1998  38.464359         0   14          1         0\n",
              "\n",
              "[1999 rows x 5 columns]"
            ],
            "text/html": [
              "\n",
              "  <div id=\"df-ec649dcc-bd33-4667-b8ff-7fc128ddcea0\">\n",
              "    <div class=\"colab-df-container\">\n",
              "      <div>\n",
              "<style scoped>\n",
              "    .dataframe tbody tr th:only-of-type {\n",
              "        vertical-align: middle;\n",
              "    }\n",
              "\n",
              "    .dataframe tbody tr th {\n",
              "        vertical-align: top;\n",
              "    }\n",
              "\n",
              "    .dataframe thead th {\n",
              "        text-align: right;\n",
              "    }\n",
              "</style>\n",
              "<table border=\"1\" class=\"dataframe\">\n",
              "  <thead>\n",
              "    <tr style=\"text-align: right;\">\n",
              "      <th></th>\n",
              "      <th>temp</th>\n",
              "      <th>bodypain</th>\n",
              "      <th>age</th>\n",
              "      <th>runnynose</th>\n",
              "      <th>infected</th>\n",
              "    </tr>\n",
              "  </thead>\n",
              "  <tbody>\n",
              "    <tr>\n",
              "      <th>0</th>\n",
              "      <td>37.405479</td>\n",
              "      <td>0</td>\n",
              "      <td>26</td>\n",
              "      <td>1</td>\n",
              "      <td>0</td>\n",
              "    </tr>\n",
              "    <tr>\n",
              "      <th>1</th>\n",
              "      <td>36.730702</td>\n",
              "      <td>1</td>\n",
              "      <td>61</td>\n",
              "      <td>1</td>\n",
              "      <td>1</td>\n",
              "    </tr>\n",
              "    <tr>\n",
              "      <th>2</th>\n",
              "      <td>37.732271</td>\n",
              "      <td>1</td>\n",
              "      <td>13</td>\n",
              "      <td>0</td>\n",
              "      <td>0</td>\n",
              "    </tr>\n",
              "    <tr>\n",
              "      <th>3</th>\n",
              "      <td>38.524698</td>\n",
              "      <td>1</td>\n",
              "      <td>55</td>\n",
              "      <td>1</td>\n",
              "      <td>1</td>\n",
              "    </tr>\n",
              "    <tr>\n",
              "      <th>4</th>\n",
              "      <td>37.809265</td>\n",
              "      <td>1</td>\n",
              "      <td>37</td>\n",
              "      <td>0</td>\n",
              "      <td>0</td>\n",
              "    </tr>\n",
              "    <tr>\n",
              "      <th>...</th>\n",
              "      <td>...</td>\n",
              "      <td>...</td>\n",
              "      <td>...</td>\n",
              "      <td>...</td>\n",
              "      <td>...</td>\n",
              "    </tr>\n",
              "    <tr>\n",
              "      <th>1994</th>\n",
              "      <td>38.706606</td>\n",
              "      <td>1</td>\n",
              "      <td>33</td>\n",
              "      <td>1</td>\n",
              "      <td>1</td>\n",
              "    </tr>\n",
              "    <tr>\n",
              "      <th>1995</th>\n",
              "      <td>38.707766</td>\n",
              "      <td>1</td>\n",
              "      <td>38</td>\n",
              "      <td>0</td>\n",
              "      <td>1</td>\n",
              "    </tr>\n",
              "    <tr>\n",
              "      <th>1996</th>\n",
              "      <td>37.669128</td>\n",
              "      <td>1</td>\n",
              "      <td>76</td>\n",
              "      <td>0</td>\n",
              "      <td>1</td>\n",
              "    </tr>\n",
              "    <tr>\n",
              "      <th>1997</th>\n",
              "      <td>36.980879</td>\n",
              "      <td>1</td>\n",
              "      <td>62</td>\n",
              "      <td>1</td>\n",
              "      <td>1</td>\n",
              "    </tr>\n",
              "    <tr>\n",
              "      <th>1998</th>\n",
              "      <td>38.464359</td>\n",
              "      <td>0</td>\n",
              "      <td>14</td>\n",
              "      <td>1</td>\n",
              "      <td>0</td>\n",
              "    </tr>\n",
              "  </tbody>\n",
              "</table>\n",
              "<p>1999 rows × 5 columns</p>\n",
              "</div>\n",
              "      <button class=\"colab-df-convert\" onclick=\"convertToInteractive('df-ec649dcc-bd33-4667-b8ff-7fc128ddcea0')\"\n",
              "              title=\"Convert this dataframe to an interactive table.\"\n",
              "              style=\"display:none;\">\n",
              "        \n",
              "  <svg xmlns=\"http://www.w3.org/2000/svg\" height=\"24px\"viewBox=\"0 0 24 24\"\n",
              "       width=\"24px\">\n",
              "    <path d=\"M0 0h24v24H0V0z\" fill=\"none\"/>\n",
              "    <path d=\"M18.56 5.44l.94 2.06.94-2.06 2.06-.94-2.06-.94-.94-2.06-.94 2.06-2.06.94zm-11 1L8.5 8.5l.94-2.06 2.06-.94-2.06-.94L8.5 2.5l-.94 2.06-2.06.94zm10 10l.94 2.06.94-2.06 2.06-.94-2.06-.94-.94-2.06-.94 2.06-2.06.94z\"/><path d=\"M17.41 7.96l-1.37-1.37c-.4-.4-.92-.59-1.43-.59-.52 0-1.04.2-1.43.59L10.3 9.45l-7.72 7.72c-.78.78-.78 2.05 0 2.83L4 21.41c.39.39.9.59 1.41.59.51 0 1.02-.2 1.41-.59l7.78-7.78 2.81-2.81c.8-.78.8-2.07 0-2.86zM5.41 20L4 18.59l7.72-7.72 1.47 1.35L5.41 20z\"/>\n",
              "  </svg>\n",
              "      </button>\n",
              "      \n",
              "  <style>\n",
              "    .colab-df-container {\n",
              "      display:flex;\n",
              "      flex-wrap:wrap;\n",
              "      gap: 12px;\n",
              "    }\n",
              "\n",
              "    .colab-df-convert {\n",
              "      background-color: #E8F0FE;\n",
              "      border: none;\n",
              "      border-radius: 50%;\n",
              "      cursor: pointer;\n",
              "      display: none;\n",
              "      fill: #1967D2;\n",
              "      height: 32px;\n",
              "      padding: 0 0 0 0;\n",
              "      width: 32px;\n",
              "    }\n",
              "\n",
              "    .colab-df-convert:hover {\n",
              "      background-color: #E2EBFA;\n",
              "      box-shadow: 0px 1px 2px rgba(60, 64, 67, 0.3), 0px 1px 3px 1px rgba(60, 64, 67, 0.15);\n",
              "      fill: #174EA6;\n",
              "    }\n",
              "\n",
              "    [theme=dark] .colab-df-convert {\n",
              "      background-color: #3B4455;\n",
              "      fill: #D2E3FC;\n",
              "    }\n",
              "\n",
              "    [theme=dark] .colab-df-convert:hover {\n",
              "      background-color: #434B5C;\n",
              "      box-shadow: 0px 1px 3px 1px rgba(0, 0, 0, 0.15);\n",
              "      filter: drop-shadow(0px 1px 2px rgba(0, 0, 0, 0.3));\n",
              "      fill: #FFFFFF;\n",
              "    }\n",
              "  </style>\n",
              "\n",
              "      <script>\n",
              "        const buttonEl =\n",
              "          document.querySelector('#df-ec649dcc-bd33-4667-b8ff-7fc128ddcea0 button.colab-df-convert');\n",
              "        buttonEl.style.display =\n",
              "          google.colab.kernel.accessAllowed ? 'block' : 'none';\n",
              "\n",
              "        async function convertToInteractive(key) {\n",
              "          const element = document.querySelector('#df-ec649dcc-bd33-4667-b8ff-7fc128ddcea0');\n",
              "          const dataTable =\n",
              "            await google.colab.kernel.invokeFunction('convertToInteractive',\n",
              "                                                     [key], {});\n",
              "          if (!dataTable) return;\n",
              "\n",
              "          const docLinkHtml = 'Like what you see? Visit the ' +\n",
              "            '<a target=\"_blank\" href=https://colab.research.google.com/notebooks/data_table.ipynb>data table notebook</a>'\n",
              "            + ' to learn more about interactive tables.';\n",
              "          element.innerHTML = '';\n",
              "          dataTable['output_type'] = 'display_data';\n",
              "          await google.colab.output.renderOutput(dataTable, element);\n",
              "          const docLink = document.createElement('div');\n",
              "          docLink.innerHTML = docLinkHtml;\n",
              "          element.appendChild(docLink);\n",
              "        }\n",
              "      </script>\n",
              "    </div>\n",
              "  </div>\n",
              "  "
            ]
          },
          "metadata": {},
          "execution_count": 2
        }
      ]
    },
    {
      "cell_type": "markdown",
      "source": [
        "## Building AI"
      ],
      "metadata": {
        "id": "huZCMU7nZwe9"
      }
    },
    {
      "cell_type": "markdown",
      "source": [
        "### Variables\n",
        "* Xlist: 독립변수 리스트 (체온, 신체의 전반적인 고통 여부, 나이, 콧물이 나는 지 여부)\n",
        "* Ylist: 종속변수 리스트 (코로나19 감염 여부)"
      ],
      "metadata": {
        "id": "gZATlZLqZydl"
      }
    },
    {
      "cell_type": "code",
      "source": [
        "Xlist = data[['temp','bodypain','age','runnynose']]\n",
        "Ylist = data[['infected']]\n",
        "print(Xlist.shape, Ylist.shape)"
      ],
      "metadata": {
        "colab": {
          "base_uri": "https://localhost:8080/"
        },
        "id": "ErnNFQgtZ0n_",
        "outputId": "84b95661-6247-4f59-e7ea-2514615a72e4"
      },
      "execution_count": null,
      "outputs": [
        {
          "output_type": "stream",
          "name": "stdout",
          "text": [
            "(1999, 4) (1999, 1)\n"
          ]
        }
      ]
    },
    {
      "cell_type": "markdown",
      "source": [
        "### Model\n",
        "* 자주 사용되는 활성함수인 relu, sigmoid, tanh 중 tanh는 범위가 -1~1이므로 본 데이터와 적합하지 않다고 판단하였고, 선형 데이터가 아니므로 relu보다는 sigmoid가 적합할 것 같다는 판단 하에 여러 activation function을 사용해 본 결과, Sigmoid가 적합한 함수로 판단되어 sigmoid 함수를 활성함수로 사용하였다.\n",
        "* Optimizer 중 Adam의 loss 값이 낮게 나오고, 상대적으로 정확한 결과가 나오는 것으로 판단되어 Adam을 Optimizer로 설정하였다.\n",
        "* 본 데이터는 결과가 T/F (이진)로 나오는 것을 목표로 하기 때문에, 손실 함수로 binary_crossentropy를 사용하는 것이 적합하다고 판단하였다."
      ],
      "metadata": {
        "id": "pc9-8ylWZ-Go"
      }
    },
    {
      "cell_type": "code",
      "source": [
        "X = tf.keras.layers.Input(shape=4)\n",
        "Y = tf.keras.layers.Dense(1, activation='sigmoid')(X)\n",
        "model = tf.keras.models.Model(X, Y)\n",
        "model.compile(optimizer='adam',loss='binary_crossentropy',\n",
        "              metrics='accuracy')"
      ],
      "metadata": {
        "id": "KGAlH3wcZ6EW"
      },
      "execution_count": null,
      "outputs": []
    },
    {
      "cell_type": "markdown",
      "source": [
        "### Epoch Setting & Model Training\n",
        "* 사용자로부터 epoch 값을 입력받고, epc-10번 만큼 **출력 없이** 학습하여 효율적으로 학습하도록 하였고, 가장 마지막에 10번 학습을 진행하고, 진행 내용을 출력하여 사용자가 loss와 accuracy를 확인할 수 있도록 하였다."
      ],
      "metadata": {
        "id": "OrRNl4CcZ_Ms"
      }
    },
    {
      "cell_type": "code",
      "source": [
        "epc=int(input(\"Epoch 값을 입력하세요: \"))\n",
        "model.fit(Xlist, Ylist, epochs=epc-10,verbose=0)\n",
        "model.fit(Xlist, Ylist, epochs=10,verbose=1)"
      ],
      "metadata": {
        "colab": {
          "base_uri": "https://localhost:8080/"
        },
        "id": "89szHRjqaCnw",
        "outputId": "a1aca1af-b872-45db-bee7-958ecb3b1207"
      },
      "execution_count": null,
      "outputs": [
        {
          "output_type": "stream",
          "name": "stdout",
          "text": [
            "Epoch 값을 입력하세요: 1000\n",
            "Epoch 1/10\n",
            "63/63 [==============================] - 0s 2ms/step - loss: 0.6954 - accuracy: 0.5068\n",
            "Epoch 2/10\n",
            "63/63 [==============================] - 0s 2ms/step - loss: 0.6946 - accuracy: 0.5048\n",
            "Epoch 3/10\n",
            "63/63 [==============================] - 0s 2ms/step - loss: 0.6940 - accuracy: 0.5048\n",
            "Epoch 4/10\n",
            "63/63 [==============================] - 0s 2ms/step - loss: 0.6949 - accuracy: 0.5068\n",
            "Epoch 5/10\n",
            "63/63 [==============================] - 0s 2ms/step - loss: 0.6959 - accuracy: 0.5038\n",
            "Epoch 6/10\n",
            "63/63 [==============================] - 0s 2ms/step - loss: 0.6939 - accuracy: 0.5103\n",
            "Epoch 7/10\n",
            "63/63 [==============================] - 0s 2ms/step - loss: 0.6942 - accuracy: 0.5248\n",
            "Epoch 8/10\n",
            "63/63 [==============================] - 0s 2ms/step - loss: 0.6935 - accuracy: 0.5103\n",
            "Epoch 9/10\n",
            "63/63 [==============================] - 0s 2ms/step - loss: 0.6971 - accuracy: 0.4932\n",
            "Epoch 10/10\n",
            "63/63 [==============================] - 0s 1ms/step - loss: 0.6928 - accuracy: 0.5228\n"
          ]
        },
        {
          "output_type": "execute_result",
          "data": {
            "text/plain": [
              "<keras.callbacks.History at 0x7fa6d5497bb0>"
            ]
          },
          "metadata": {},
          "execution_count": 5
        }
      ]
    },
    {
      "cell_type": "markdown",
      "source": [
        "## Usage\n",
        "* 본 시스템을 시설 입구 등에 설치하거나 스마트폰 애플리케이션 등을 통해 사용자에게 도달할 수 있도록 하고, 시설 입구의 체온 센서와 연동하거나 스마트폰의 온도 센서, 혹은 스마트 체온계(또는 일반 체온계의 측정값을 입력)와 연동하여 체온 정보를 입력받고, 건강 상태를 간단히 응답하면 코로나 19의 감염 가능성을 알려주도록 하였다.\n",
        "* 실제로 아래 모델에서 모두 입력하면, 결과가 소수로 나오게 되는데, 1에 가까울 수록 코로나19에 걸렸을 가능성이 높다고 판단하는 것이고, 0에 가까울 수록 코로나19에 걸렸을 가능성이 낮다고 판단하게 된다. 이를 이용하여 결과값에 100을 곱하여 백분율 형태로 감염 확률을 판단하여 사용자에게 제공한다.\n",
        "* 다만, 의료 목적으로 사용하는 데에는 어려움이 있으므로 참고용으로 사용하도록 하는 문구를 표시하였다."
      ],
      "metadata": {
        "id": "A6bGFKw857Lc"
      }
    },
    {
      "cell_type": "code",
      "source": [
        "temp=float(input(\"기기를 통해 측정한 체온을 섭씨 단위로 입력해 주세요: \"))\n",
        "bodypain=int(input(\"몸의 컨디션이 전반적으로 좋지 않거나, 아프신가요? 있으면 1, 없으면 0을 입력해 주세요: \"))\n",
        "age=int(input(\"나이를 입력해 주세요: \"))\n",
        "runnynose=int(input(\"콧물이 나시나요? 콧물이 나면 1, 나지 않으면 0을 입력해 주세요: \"))\n",
        "Fl=model.predict([[temp,bodypain,age,runnynose]],verbose=0)\n",
        "accuracy=str(str(Fl[[0]]*100).replace(\"[\",\"\").replace(\"]\",\"\"))\n",
        "# print(accuracy)\n",
        "if Fl[[0]]<0.5:\n",
        "  print(\"코로나19에 감염된 것 같아 보이지 않습니다. (AI가 판단한 감염 확률은 \"+accuracy+\"% 입니다.)\")\n",
        "else:\n",
        "  print(\"코로나19에 감염된 것 같아 보입니다. (AI가 판단한 감염 확률은\"+str(Fl[[0]]*100)+\"%입니다.)\")\n",
        "print(\"=============================\\n*** DISCLAIMER: 본 프로그램은 단순 참고용이며, 어떠한 법적 효력이나 의료적 효력을 지니고 있지 않음을 알려드립니다.\\n본 프로그램을 사용해 주셔서 감사합니다.\")"
      ],
      "metadata": {
        "colab": {
          "base_uri": "https://localhost:8080/"
        },
        "id": "NHGBpPI959Cc",
        "outputId": "2eabdd12-8358-4b81-93cf-e1dc0b268453"
      },
      "execution_count": null,
      "outputs": [
        {
          "output_type": "stream",
          "name": "stdout",
          "text": [
            "사용자의 체온을 섭씨 단위로 입력해 주세요: 37.8\n",
            "몸의 컨디션이 전반적으로 좋지 않거나, 아프신가요? 있으면 1, 없으면 0을 입력해 주세요: 1\n",
            "나이를 입력해 주세요: 54\n",
            "콧물이 나시나요? 콧물이 나면 1, 나지 않으면 0을 입력해 주세요: 1\n",
            "62.996136\n",
            "코로나19에 감염된 것 같아 보입니다. (AI가 판단한 감염 확률은[[62.996136]]%입니다.)\n",
            "=============================\n",
            "*** DISCLAIMER: 본 프로그램은 단순 참고용이며, 어떠한 법적 효력이나 의료적 효력을 지니고 있지 않음을 알려드립니다. ***\n",
            "본 프로그램을 사용해 주셔서 감사합니다.\n"
          ]
        }
      ]
    }
  ]
}