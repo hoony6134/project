{
  "nbformat": 4,
  "nbformat_minor": 0,
  "metadata": {
    "colab": {
      "provenance": [],
      "authorship_tag": "ABX9TyNRQws2AfEG05FWIzrfE/Ye",
      "include_colab_link": true
    },
    "kernelspec": {
      "name": "python3",
      "display_name": "Python 3"
    },
    "language_info": {
      "name": "python"
    }
  },
  "cells": [
    {
      "cell_type": "markdown",
      "metadata": {
        "id": "view-in-github",
        "colab_type": "text"
      },
      "source": [
        "<a href=\"https://colab.research.google.com/github/hoony6134/project/blob/main/sorting_fasta.ipynb\" target=\"_parent\"><img src=\"https://colab.research.google.com/assets/colab-badge.svg\" alt=\"Open In Colab\"/></a>"
      ]
    },
    {
      "cell_type": "markdown",
      "source": [
        "# DNA Sorting using FASTA, SVM"
      ],
      "metadata": {
        "id": "DLmUwxsMc4IK"
      }
    },
    {
      "cell_type": "code",
      "source": [
        "%pip install biopython"
      ],
      "metadata": {
        "colab": {
          "base_uri": "https://localhost:8080/"
        },
        "id": "cy9GIsAqc1Ft",
        "outputId": "7118d2eb-6e7c-4021-85fb-9463b67714b9"
      },
      "execution_count": 2,
      "outputs": [
        {
          "output_type": "stream",
          "name": "stdout",
          "text": [
            "Collecting biopython\n",
            "  Downloading biopython-1.82-cp310-cp310-manylinux_2_17_x86_64.manylinux2014_x86_64.whl (3.1 MB)\n",
            "\u001b[2K     \u001b[90m━━━━━━━━━━━━━━━━━━━━━━━━━━━━━━━━━━━━━━━━\u001b[0m \u001b[32m3.1/3.1 MB\u001b[0m \u001b[31m10.7 MB/s\u001b[0m eta \u001b[36m0:00:00\u001b[0m\n",
            "\u001b[?25hRequirement already satisfied: numpy in /usr/local/lib/python3.10/dist-packages (from biopython) (1.23.5)\n",
            "Installing collected packages: biopython\n",
            "Successfully installed biopython-1.82\n"
          ]
        }
      ]
    },
    {
      "cell_type": "code",
      "execution_count": 17,
      "metadata": {
        "id": "fjb4LdovcvLW"
      },
      "outputs": [],
      "source": [
        "from sklearn import svm\n",
        "from sklearn.model_selection import train_test_split\n",
        "from sklearn.metrics import accuracy_score\n",
        "from Bio import SeqIO"
      ]
    },
    {
      "cell_type": "code",
      "source": [
        "# Function to read fasta files and extract sequences\n",
        "def read_fasta(file_path):\n",
        "    sequences = []\n",
        "    with open(file_path, \"r\") as file:\n",
        "        for record in SeqIO.parse(file, \"fasta\"):\n",
        "            sequences.append(str(record.seq))\n",
        "    return sequences\n",
        "\n",
        "# Function to train SVM model\n",
        "def train_svm(positive_files, negative_files, max_iter=100):\n",
        "    # Read positive fasta files\n",
        "    positive_sequences = []\n",
        "    for file in positive_files:\n",
        "        positive_sequences += read_fasta(file)\n",
        "\n",
        "    # Read negative fasta files\n",
        "    negative_sequences = []\n",
        "    for file in negative_files:\n",
        "        negative_sequences += read_fasta(file)\n",
        "\n",
        "    # Assign labels for positive and negative examples\n",
        "    positive_labels = [1] * len(positive_sequences)\n",
        "    negative_labels = [0] * len(negative_sequences)\n",
        "\n",
        "    # Combine sequences and labels\n",
        "    all_sequences = positive_sequences + negative_sequences\n",
        "    all_labels = positive_labels + negative_labels\n",
        "\n",
        "    # Split data into training and testing sets\n",
        "    X_train, X_test, y_train, y_test = train_test_split(\n",
        "        all_sequences, all_labels, test_size=0.2, random_state=42\n",
        "    )\n",
        "\n",
        "    # Vectorize sequences (you may need to use a more sophisticated method depending on your data)\n",
        "    # Here, we are using a simple example of counting nucleotide occurrences\n",
        "    from sklearn.feature_extraction.text import CountVectorizer\n",
        "\n",
        "    vectorizer = CountVectorizer()\n",
        "    X_train_vectorized = vectorizer.fit_transform(X_train)\n",
        "    X_test_vectorized = vectorizer.transform(X_test)\n",
        "\n",
        "    # Train SVM model\n",
        "    clf = svm.SVC(kernel='linear', max_iter=max_iter)\n",
        "    clf.fit(X_train_vectorized, y_train)\n",
        "\n",
        "    # Make predictions\n",
        "    y_pred = clf.predict(X_test_vectorized)\n",
        "\n",
        "    # Calculate accuracy\n",
        "    accuracy = accuracy_score(y_test, y_pred) * 100\n",
        "\n",
        "    return clf, vectorizer, accuracy\n",
        "\n",
        "# Function to predict using trained model\n",
        "def predict(model, vectorizer, input_file):\n",
        "    input_sequence = read_fasta(input_file)[0]  # Assuming there's only one sequence in the file\n",
        "    input_sequence_vectorized = vectorizer.transform([input_sequence])\n",
        "    prediction = model.predict(input_sequence_vectorized)[0]\n",
        "    return prediction\n"
      ],
      "metadata": {
        "id": "380G-Xa7c3x3"
      },
      "execution_count": 18,
      "outputs": []
    },
    {
      "cell_type": "code",
      "source": [
        "# Example usage\n",
        "positive_files = [\"a1.fasta\", \"a2.fasta\", \"a3.fasta\", \"a4.fasta\"]\n",
        "negative_files = [\"n1.fasta\", \"n2.fasta\", \"n3.fasta\", \"n4.fasta\"]\n",
        "\n",
        "# Train SVM model with 100 epochs\n",
        "trained_model, trained_vectorizer, training_accuracy = train_svm(positive_files, negative_files, max_iter=100)\n",
        "# print(\"Training Accuracy: {:.2f}%\".format(training_accuracy))\n",
        "\n",
        "# Example input sequence\n",
        "example_file = \"example.fasta\"\n",
        "\n",
        "# Make prediction\n",
        "prediction = predict(trained_model, trained_vectorizer, example_file)\n",
        "\n",
        "# Print the prediction\n",
        "if prediction == 1:\n",
        "    print(\"Prediction: air purification plant\")\n",
        "else:\n",
        "    print(\"Prediction: non-air purification plant\")"
      ],
      "metadata": {
        "colab": {
          "base_uri": "https://localhost:8080/"
        },
        "id": "if8m4DBrdLEJ",
        "outputId": "91b52f08-faeb-4a20-b8f5-1a4e113f1b26"
      },
      "execution_count": 19,
      "outputs": [
        {
          "output_type": "stream",
          "name": "stdout",
          "text": [
            "Prediction: air purification plant\n"
          ]
        }
      ]
    },
    {
      "cell_type": "markdown",
      "source": [
        "a1.fasta: 고무나무   \n",
        "https://www.ncbi.nlm.nih.gov/nuccore/OQ646782.1?report=fasta  \n",
        "a2.fasta: 크리소카디움    \n",
        "https://www.ncbi.nlm.nih.gov/nuccore/KU598186.1?report=fasta  \n",
        "a3.fasta: 금전수  \n",
        "https://www.ncbi.nlm.nih.gov/nuccore/ON962335.1?report=fasta  \n",
        "a4.fasta: 디시디아  \n",
        "https://www.ncbi.nlm.nih.gov/nuccore/NC_069567.1?report=fasta  \n",
        "\n",
        "\n",
        "n1.fasta: 장미  \n",
        "https://www.ncbi.nlm.nih.gov/nuccore/OR539742.1?report=fasta  \n",
        "\n",
        "n2.fasta: 민들레  \n",
        "https://www.ncbi.nlm.nih.gov/nuccore/NC_031395.1?report=fasta  \n",
        "\n",
        "n3.fasta: 애기똥풀  \n",
        "https://www.ncbi.nlm.nih.gov/nuccore/NC_046829.1?report=fasta  \n",
        "\n",
        "n4.fasta: 벼  \n",
        "https://www.ncbi.nlm.nih.gov/nuccore/NC_066488.1?report=fasta  \n",
        "\n",
        "\n",
        "example.fasta: 시계꽃  \n",
        "https://www.ncbi.nlm.nih.gov/nuccore/NC_053697.1?report=fasta"
      ],
      "metadata": {
        "id": "gxnB8UfufEKv"
      }
    }
  ]
}